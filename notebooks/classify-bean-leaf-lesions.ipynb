{
 "cells": [
  {
   "cell_type": "code",
   "execution_count": 2,
   "metadata": {},
   "outputs": [],
   "source": [
    "# pytorch library\n",
    "import torch\n",
    "\n",
    "import torch.nn as nn\n",
    "import torch.optim as optim\n",
    "# transforms perform a set of operations to an individual item (image) so that it is usable by the model\n",
    "import torchvision.transforms as transforms\n",
    "# Tools for creating datasets from folders\n",
    "from torchvision import datasets\n",
    "# default_loader enables basic loading of images to be used in the CustomDataset class\n",
    "from torchvision.datasets.folder import default_loader\n",
    "# DataLoader creates batches of data in a format the model can use\n",
    "# Dataset is a general class that allows the retrieval of individual pieces of data via the DataLoader\n",
    "# All classes that inherit from Dataset must implement the __getitem__ and __len__ \n",
    "from torch.utils.data import DataLoader, Dataset\n",
    "import pandas as pd\n"
   ]
  },
  {
   "attachments": {},
   "cell_type": "markdown",
   "metadata": {},
   "source": [
    "### Setup transform and define CustomDataset class for iterable datasets"
   ]
  },
  {
   "cell_type": "code",
   "execution_count": 3,
   "metadata": {},
   "outputs": [],
   "source": [
    "transform=transforms.Compose([\n",
    "    transforms.Resize((128, 128)),\n",
    "    transforms.ToTensor(),\n",
    "    transforms.Normalize(mean=[0.5, 0.5, 0.5], std=[0.5, 0.5, 0.5])\n",
    "])\n",
    "\n",
    "# Use the train.csv and val.csv csv files to create two datasets\n",
    "class CustomDataset(Dataset):\n",
    "    # csv_file is a file path, root_dir is the root of the dataset, transform is an optional instantiation of transforms.Compose\n",
    "    def __init__(self, csv_file, root_dir, transform=None):\n",
    "        self.data = pd.read_csv(csv_file)\n",
    "        self.root_dir = root_dir\n",
    "        self.transform = transform\n",
    "\n",
    "    # How many items are in the dataset\n",
    "    def __len__(self):\n",
    "        return len(self.data)\n",
    "    \n",
    "    # Get a specific item from the dataset by index\n",
    "    def __getitem__(self, idx):\n",
    "        img_name = self.data.iloc[idx,0] # column 0 contains file paths\n",
    "        img_path = f\"{self.root_dir}/{img_name}\"\n",
    "        # A basic image loader that retruns a Python Imaging Library (PIL) object\n",
    "        image = default_loader(img_path)\n",
    "        label = self.data.iloc[idx,1] # column 1 contains image class\n",
    "\n",
    "        # If there is a transform function, transform the image\n",
    "        if self.transform:\n",
    "            image = self.transform(image)\n",
    "\n",
    "        return image, label"
   ]
  },
  {
   "attachments": {},
   "cell_type": "markdown",
   "metadata": {},
   "source": [
    "### Setup data"
   ]
  },
  {
   "cell_type": "code",
   "execution_count": 4,
   "metadata": {},
   "outputs": [],
   "source": [
    "data_path = \"../datasets/bean-leaf-lesions/\"\n",
    "\n",
    "# CSV file paths\n",
    "train_csv = data_path + 'train.csv'\n",
    "val_csv = data_path + 'val.csv'\n",
    "\n",
    "# Create custom datasets\n",
    "train_dataset = CustomDataset(csv_file=train_csv, root_dir=data_path, transform=transform)\n",
    "val_dataset = CustomDataset(csv_file=val_csv, root_dir=data_path, transform=transform)\n",
    "\n",
    "# Create Dataloaders\n",
    "batch_size=32\n",
    "train_dataloader = DataLoader(train_dataset, batch_size=batch_size, shuffle=True)\n",
    "val_data_loader = DataLoader(val_dataset, batch_size=batch_size, shuffle=False) "
   ]
  },
  {
   "attachments": {},
   "cell_type": "markdown",
   "metadata": {},
   "source": [
    "### Create NN"
   ]
  },
  {
   "cell_type": "code",
   "execution_count": null,
   "metadata": {},
   "outputs": [],
   "source": [
    "# nn.Module is the base class for all NN modules in pytorch\n",
    "class CNN(nn.Module):\n",
    "    def __init__(self):\n",
    "        # CNN class inherits from nn.Module\n",
    "        # Inheriting allows the use of functions from the parent class\n",
    "        super(CNN, self).__init__()\n",
    "        # Input = RGB, Output = number of filters/kernels in the layer, \n",
    "        # kernel_size = height&width of convolutional window, padding = number of 0 pixels added to edge of image\n",
    "        self.conv1 = nn.Conv2d(in_channels=3, out_channels= 16, kernel_size= 3, padding=1)\n",
    "        self.pool = nn.MaxPool2d(2, 2)"
   ]
  }
 ],
 "metadata": {
  "kernelspec": {
   "display_name": "pytorch",
   "language": "python",
   "name": "python3"
  },
  "language_info": {
   "codemirror_mode": {
    "name": "ipython",
    "version": 3
   },
   "file_extension": ".py",
   "mimetype": "text/x-python",
   "name": "python",
   "nbconvert_exporter": "python",
   "pygments_lexer": "ipython3",
   "version": "3.11.6"
  },
  "orig_nbformat": 4,
  "vscode": {
   "interpreter": {
    "hash": "0ffb79dba2b0659ac21bde8e88d8bd6113f5558632155a003a95479e7df48b66"
   }
  }
 },
 "nbformat": 4,
 "nbformat_minor": 2
}
