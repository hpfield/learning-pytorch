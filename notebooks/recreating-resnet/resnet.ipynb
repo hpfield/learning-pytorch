{
 "cells": [
  {
   "attachments": {},
   "cell_type": "markdown",
   "metadata": {},
   "source": [
    "### Imports"
   ]
  },
  {
   "cell_type": "code",
   "execution_count": 1,
   "metadata": {},
   "outputs": [],
   "source": [
    "import torch\n",
    "import torch.nn as nn\n",
    "import torch.nn.functional as F"
   ]
  },
  {
   "attachments": {},
   "cell_type": "markdown",
   "metadata": {},
   "source": [
    "### Basic block"
   ]
  },
  {
   "cell_type": "code",
   "execution_count": 3,
   "metadata": {},
   "outputs": [],
   "source": [
    "# Defining the basic block to be used in the ResNet\n",
    "# nn.Module is the base class for all neural network modules in pytorch\n",
    "class BasicBlock(nn.Module):\n",
    "    def __init__(self, in_channels, out_channels, stride=1):\n",
    "        # calls the constructor of the parent class nn.Module (inheriting attributes and methods from parent class)\n",
    "        super(BasicBlock, self).__init__()\n",
    "        # in_channels = RGB\n",
    "        # out_channels = number of different kernels applied to input\n",
    "        # Kernel size = height and width of sliding window\n",
    "        # stride = how many pixels does the kernel move each time a convolution is performed\n",
    "        # padding = number of 0 pixels added to the edge of the input\n",
    "        # bias = whether or not a bias will be included in convolutions\n",
    "        # keeping padding at 1 and stride at 1 will preserve spatial dimensions in this concolutional layer\n",
    "        # including a bias allows the model to learn more complex patterns, but comes at a computational cost\n",
    "        self.conv1 = nn.Conv2d(in_channels, out_channels, kernel_size=3, stride=stride, padding=1, bias=False)\n",
    "        # normalises the outputs of the previous layer before use in the next\n",
    "        # Stabilises training\n",
    "        # Learns params gamma and beta\n",
    "        # The normalised activations (outputs) are scaled by gamma and shifted by beta\n",
    "        self.bn1 = nn.BatchNorm2d(out_channels)\n",
    "        # Manually setting stride and padding to 1 to preserve spatial dimensions of previous conv layer\n",
    "        self.conv2 = nn.Conv2d(out_channels, out_channels, kernel_size=3, stride=1, padding=1, bias=False)\n",
    "        self.bn2 = nn.BatchNorm2d(out_channels)\n",
    "        # nn.Sequential() creates an empty nn module to create a path for shortcut connections within the res block\n",
    "        self.shortcut = nn.Sequential()\n",
    "        # If stride != 1, the spatial dimensions will be reduced\n",
    "        # If in_channels != out_channels, means that either the stride>1 and the block will reduce the spatial dimensions\n",
    "        # Or, the number of channels between the input and the output of the residual block needs to change\n",
    "        if stride != 1 or in_channels != out_channels:\n",
    "            self.shortcut = nn.Sequential(\n",
    "                nn.conv2d(in_channels, out_channels, kernel_size=1, stride=stride, bias=False),\n",
    "                nn.BatchNorm2d(out_channels)\n",
    "            )\n",
    "\n",
    "    # The standard sequence of operations for a ResNet Block\n",
    "    def forward(self, x):\n",
    "        out = F.relu(self.bn1(self.conv1(x)))\n",
    "        out = self.bn2(self.conv2(out))\n",
    "        out += self.shortcut(x) # output is added with input, representing the residual connection\n",
    "        out = F.relu(out) # final activation\n",
    "        return out\n"
   ]
  },
  {
   "cell_type": "markdown",
   "metadata": {},
   "source": [
    "### ResNet architecture"
   ]
  },
  {
   "cell_type": "code",
   "execution_count": null,
   "metadata": {},
   "outputs": [],
   "source": [
    "class ResNet(nn.Module):\n",
    "    def __init__(self, block, num_blocks, num_classes = 3):\n",
    "        super(ResNet, self).__init__()\n",
    "        self.in_channels = 64\n",
    "        self.conv1 = nn.Conv2d(3, 64, kernel_size=3, stride=1, padding=1, bias=False)\n",
    "        self.bn1 = nn.BatchNorm2d(64)\n",
    "        self.layer1 = self._make_layer(block, 64, num_blocks[0], stride=1)\n",
    "        self.layer2 = self._make_layer(block, 128, num_blocks[1], stride=2)\n",
    "\n",
    "    def _make_layer(self, block, out_channels, num_blocks, stride):\n",
    "        strides = [stride] + [1] * (num_blocks - 1)\n",
    "        layers = []\n",
    "        for stride in strides:\n",
    "            layers.append(block(self.in_channels, out_channels, stride))\n",
    "            self.in_channels = out_channels\n",
    "        return nn.Sequential(*layers)"
   ]
  }
 ],
 "metadata": {
  "kernelspec": {
   "display_name": "pytorch",
   "language": "python",
   "name": "python3"
  },
  "language_info": {
   "codemirror_mode": {
    "name": "ipython",
    "version": 3
   },
   "file_extension": ".py",
   "mimetype": "text/x-python",
   "name": "python",
   "nbconvert_exporter": "python",
   "pygments_lexer": "ipython3",
   "version": "3.11.6"
  },
  "orig_nbformat": 4,
  "vscode": {
   "interpreter": {
    "hash": "0ffb79dba2b0659ac21bde8e88d8bd6113f5558632155a003a95479e7df48b66"
   }
  }
 },
 "nbformat": 4,
 "nbformat_minor": 2
}
